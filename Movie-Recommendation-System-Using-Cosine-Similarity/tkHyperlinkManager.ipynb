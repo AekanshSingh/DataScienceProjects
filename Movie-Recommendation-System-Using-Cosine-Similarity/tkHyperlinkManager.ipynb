{
 "cells": [
  {
   "cell_type": "code",
   "execution_count": 1,
   "id": "compound-throw",
   "metadata": {},
   "outputs": [],
   "source": [
    "from tkinter import *\n",
    "\n",
    "\n",
    "class HyperlinkManager:\n",
    "    def __init__(self, text):\n",
    "        self.text = text\n",
    "        self.text.tag_config(\"hyper\", foreground=\"blue\", justify='center', underline=1)\n",
    "        self.text.tag_bind(\"hyper\", \"<Enter>\", self._enter)\n",
    "        self.text.tag_bind(\"hyper\", \"<Leave>\", self._leave)\n",
    "        self.text.tag_bind(\"hyper\", \"<Button-1>\", self._click)\n",
    "        self.reset()\n",
    "\n",
    "    def reset(self):\n",
    "        self.links = {}\n",
    "\n",
    "    def add(self, action):\n",
    "        # add an action to the manager.  returns tags to use in\n",
    "        # associated text widget\n",
    "        tag = \"hyper-%d\" % len(self.links)\n",
    "        self.links[tag] = action\n",
    "        return \"hyper\", tag\n",
    "\n",
    "    def _enter(self, event):\n",
    "        self.text.config(cursor=\"hand2\")\n",
    "\n",
    "    def _leave(self, event):\n",
    "        self.text.config(cursor=\"\")\n",
    "\n",
    "    def _click(self, event):\n",
    "        for tag in self.text.tag_names(CURRENT):\n",
    "            if tag[:6] == \"hyper-\":\n",
    "                self.links[tag]()\n",
    "                return"
   ]
  },
  {
   "cell_type": "code",
   "execution_count": null,
   "id": "robust-lighter",
   "metadata": {},
   "outputs": [],
   "source": []
  }
 ],
 "metadata": {
  "kernelspec": {
   "display_name": "Python 3",
   "language": "python",
   "name": "python3"
  },
  "language_info": {
   "codemirror_mode": {
    "name": "ipython",
    "version": 3
   },
   "file_extension": ".py",
   "mimetype": "text/x-python",
   "name": "python",
   "nbconvert_exporter": "python",
   "pygments_lexer": "ipython3",
   "version": "3.8.6"
  }
 },
 "nbformat": 4,
 "nbformat_minor": 5
}
