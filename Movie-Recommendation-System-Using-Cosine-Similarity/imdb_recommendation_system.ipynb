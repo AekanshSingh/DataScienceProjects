{
 "cells": [
  {
   "cell_type": "code",
   "execution_count": 1,
   "id": "higher-thomas",
   "metadata": {},
   "outputs": [],
   "source": [
    "from sklearn.preprocessing import MinMaxScaler\n",
    "from sklearn.feature_extraction.text import CountVectorizer\n",
    "from sklearn.metrics.pairwise import cosine_similarity\n",
    "import pandas as pd\n",
    "import numpy as np"
   ]
  },
  {
   "cell_type": "code",
   "execution_count": 2,
   "id": "seasonal-attack",
   "metadata": {},
   "outputs": [],
   "source": [
    "imdb = pd.read_csv('imdb_sampled.csv')\n",
    "titles_list = imdb['sortedTitle'].tolist()\n",
    "cv = CountVectorizer(dtype=np.uint8)\n",
    "dtm = cv.fit_transform(imdb['genres']).toarray()\n",
    "new_matrix = np.concatenate((dtm, np.array(imdb['averageRating']).reshape(-1, 1)), axis=1)\n",
    "\n",
    "MMS = MinMaxScaler()\n",
    "numVotes = np.array(imdb['numVotes'])\n",
    "numVotes = numVotes.reshape(-1, 1)\n",
    "numVotes = MMS.fit_transform(numVotes)\n",
    "new_matrix = np.concatenate((new_matrix, numVotes), axis=1)\n",
    "\n",
    "similarities = cosine_similarity(new_matrix, dense_output=False)\n"
   ]
  },
  {
   "cell_type": "code",
   "execution_count": 3,
   "id": "electoral-memphis",
   "metadata": {},
   "outputs": [],
   "source": [
    "def build_recommendations(title):\n",
    "    try:\n",
    "        title = title.lower()\n",
    "        tv_shows = ['tvSeries', 'tvMovie', 'tvMiniSeries', 'video', 'tvSpecial']\n",
    "        sorted_title_found = True in [True for t in imdb['sortedTitle'] if t.lower() == title]\n",
    "        if sorted_title_found:\n",
    "            idx = imdb[imdb['sortedTitle'].apply(lambda x: x.lower()) == title].index[0]\n",
    "        else:\n",
    "            idx = imdb[imdb['primaryTitle'].apply(lambda x: x.lower()) == title].index[0]\n",
    "\n",
    "        recommendations = imdb['sortedTitle'].iloc[similarities[idx].argsort()[::-1]][0:500]\n",
    "\n",
    "        if imdb.iloc[idx]['titleType'] in tv_shows:\n",
    "            tv_recommendations = {rec: [imdb['tconst'].iloc[rec], imdb['sortedTitle'].iloc[rec]] for rec in\n",
    "                                  recommendations.index if imdb['titleType'].iloc[rec] in tv_shows}\n",
    "            return pd.DataFrame(tv_recommendations).transpose().iloc[1:11]\n",
    "\n",
    "        else:\n",
    "            movie_recommendations = {rec: [imdb['tconst'].iloc[rec], imdb['sortedTitle'].iloc[rec]] for rec in\n",
    "                                     recommendations.index if imdb['titleType'].iloc[rec] == 'movie'}\n",
    "            return pd.DataFrame(movie_recommendations).transpose().iloc[1:11]\n",
    "    except:\n",
    "        return None"
   ]
  },
  {
   "cell_type": "code",
   "execution_count": 4,
   "id": "above-delicious",
   "metadata": {},
   "outputs": [],
   "source": [
    "def get_recommendations(title):\n",
    "    recommendations = build_recommendations(title)\n",
    "    if recommendations is None:\n",
    "        return recommendations\n",
    "    else:\n",
    "        recommendations.rename(columns={0: 'tconst', 1: 'title'}, inplace=True)\n",
    "        recommendations.reset_index(drop=True, inplace=True)\n",
    "        recommendations['urls'] = [f'https://www.imdb.com/title/{title_id}/' for title_id in recommendations['tconst']]\n",
    "        return recommendations.drop('tconst', axis=1)\n",
    "\n",
    "\n",
    "def get_movie_data():\n",
    "    return titles_list"
   ]
  },
  {
   "cell_type": "code",
   "execution_count": null,
   "id": "radical-stockholm",
   "metadata": {},
   "outputs": [],
   "source": []
  }
 ],
 "metadata": {
  "kernelspec": {
   "display_name": "Python 3",
   "language": "python",
   "name": "python3"
  },
  "language_info": {
   "codemirror_mode": {
    "name": "ipython",
    "version": 3
   },
   "file_extension": ".py",
   "mimetype": "text/x-python",
   "name": "python",
   "nbconvert_exporter": "python",
   "pygments_lexer": "ipython3",
   "version": "3.8.6"
  }
 },
 "nbformat": 4,
 "nbformat_minor": 5
}
