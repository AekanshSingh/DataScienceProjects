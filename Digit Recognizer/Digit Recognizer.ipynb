{
 "cells": [
  {
   "cell_type": "markdown",
   "id": "congressional-disclaimer",
   "metadata": {},
   "source": [
    "## Digit Recognizer with 2D Convolutional Neural Network\n",
    "This notebook is for learning computer vision fundamentals with the famous MNIST data."
   ]
  },
  {
   "cell_type": "code",
   "execution_count": 1,
   "id": "recreational-parliament",
   "metadata": {},
   "outputs": [],
   "source": [
    "import numpy as np \n",
    "import pandas as pd "
   ]
  },
  {
   "cell_type": "code",
   "execution_count": 2,
   "id": "removed-breakdown",
   "metadata": {},
   "outputs": [],
   "source": [
    "import matplotlib.pyplot as plt\n",
    "import seaborn as sns\n",
    "%matplotlib inline\n",
    "\n",
    "import tensorflow as tf\n",
    "tf.__version__\n",
    "from tensorflow.keras.models import Sequential\n",
    "from tensorflow.keras.layers import Dense, Flatten, Activation, MaxPooling2D, Conv2D, Dropout\n",
    "from sklearn.metrics import classification_report, confusion_matrix"
   ]
  },
  {
   "cell_type": "code",
   "execution_count": 3,
   "id": "protected-better",
   "metadata": {},
   "outputs": [],
   "source": [
    "train=pd.read_csv('traindigit.csv')\n",
    "test=pd.read_csv('testdigit.csv')\n",
    "sample_submission=pd.read_csv('sample_submission.csv')"
   ]
  },
  {
   "cell_type": "code",
   "execution_count": 4,
   "id": "exempt-smart",
   "metadata": {},
   "outputs": [
    {
     "data": {
      "text/html": [
       "<div>\n",
       "<style scoped>\n",
       "    .dataframe tbody tr th:only-of-type {\n",
       "        vertical-align: middle;\n",
       "    }\n",
       "\n",
       "    .dataframe tbody tr th {\n",
       "        vertical-align: top;\n",
       "    }\n",
       "\n",
       "    .dataframe thead th {\n",
       "        text-align: right;\n",
       "    }\n",
       "</style>\n",
       "<table border=\"1\" class=\"dataframe\">\n",
       "  <thead>\n",
       "    <tr style=\"text-align: right;\">\n",
       "      <th></th>\n",
       "      <th>label</th>\n",
       "      <th>pixel0</th>\n",
       "      <th>pixel1</th>\n",
       "      <th>pixel2</th>\n",
       "      <th>pixel3</th>\n",
       "      <th>pixel4</th>\n",
       "      <th>pixel5</th>\n",
       "      <th>pixel6</th>\n",
       "      <th>pixel7</th>\n",
       "      <th>pixel8</th>\n",
       "      <th>...</th>\n",
       "      <th>pixel774</th>\n",
       "      <th>pixel775</th>\n",
       "      <th>pixel776</th>\n",
       "      <th>pixel777</th>\n",
       "      <th>pixel778</th>\n",
       "      <th>pixel779</th>\n",
       "      <th>pixel780</th>\n",
       "      <th>pixel781</th>\n",
       "      <th>pixel782</th>\n",
       "      <th>pixel783</th>\n",
       "    </tr>\n",
       "  </thead>\n",
       "  <tbody>\n",
       "    <tr>\n",
       "      <th>0</th>\n",
       "      <td>1</td>\n",
       "      <td>0</td>\n",
       "      <td>0</td>\n",
       "      <td>0</td>\n",
       "      <td>0</td>\n",
       "      <td>0</td>\n",
       "      <td>0</td>\n",
       "      <td>0</td>\n",
       "      <td>0</td>\n",
       "      <td>0</td>\n",
       "      <td>...</td>\n",
       "      <td>0</td>\n",
       "      <td>0</td>\n",
       "      <td>0</td>\n",
       "      <td>0</td>\n",
       "      <td>0</td>\n",
       "      <td>0</td>\n",
       "      <td>0</td>\n",
       "      <td>0</td>\n",
       "      <td>0</td>\n",
       "      <td>0</td>\n",
       "    </tr>\n",
       "    <tr>\n",
       "      <th>1</th>\n",
       "      <td>0</td>\n",
       "      <td>0</td>\n",
       "      <td>0</td>\n",
       "      <td>0</td>\n",
       "      <td>0</td>\n",
       "      <td>0</td>\n",
       "      <td>0</td>\n",
       "      <td>0</td>\n",
       "      <td>0</td>\n",
       "      <td>0</td>\n",
       "      <td>...</td>\n",
       "      <td>0</td>\n",
       "      <td>0</td>\n",
       "      <td>0</td>\n",
       "      <td>0</td>\n",
       "      <td>0</td>\n",
       "      <td>0</td>\n",
       "      <td>0</td>\n",
       "      <td>0</td>\n",
       "      <td>0</td>\n",
       "      <td>0</td>\n",
       "    </tr>\n",
       "    <tr>\n",
       "      <th>2</th>\n",
       "      <td>1</td>\n",
       "      <td>0</td>\n",
       "      <td>0</td>\n",
       "      <td>0</td>\n",
       "      <td>0</td>\n",
       "      <td>0</td>\n",
       "      <td>0</td>\n",
       "      <td>0</td>\n",
       "      <td>0</td>\n",
       "      <td>0</td>\n",
       "      <td>...</td>\n",
       "      <td>0</td>\n",
       "      <td>0</td>\n",
       "      <td>0</td>\n",
       "      <td>0</td>\n",
       "      <td>0</td>\n",
       "      <td>0</td>\n",
       "      <td>0</td>\n",
       "      <td>0</td>\n",
       "      <td>0</td>\n",
       "      <td>0</td>\n",
       "    </tr>\n",
       "    <tr>\n",
       "      <th>3</th>\n",
       "      <td>4</td>\n",
       "      <td>0</td>\n",
       "      <td>0</td>\n",
       "      <td>0</td>\n",
       "      <td>0</td>\n",
       "      <td>0</td>\n",
       "      <td>0</td>\n",
       "      <td>0</td>\n",
       "      <td>0</td>\n",
       "      <td>0</td>\n",
       "      <td>...</td>\n",
       "      <td>0</td>\n",
       "      <td>0</td>\n",
       "      <td>0</td>\n",
       "      <td>0</td>\n",
       "      <td>0</td>\n",
       "      <td>0</td>\n",
       "      <td>0</td>\n",
       "      <td>0</td>\n",
       "      <td>0</td>\n",
       "      <td>0</td>\n",
       "    </tr>\n",
       "    <tr>\n",
       "      <th>4</th>\n",
       "      <td>0</td>\n",
       "      <td>0</td>\n",
       "      <td>0</td>\n",
       "      <td>0</td>\n",
       "      <td>0</td>\n",
       "      <td>0</td>\n",
       "      <td>0</td>\n",
       "      <td>0</td>\n",
       "      <td>0</td>\n",
       "      <td>0</td>\n",
       "      <td>...</td>\n",
       "      <td>0</td>\n",
       "      <td>0</td>\n",
       "      <td>0</td>\n",
       "      <td>0</td>\n",
       "      <td>0</td>\n",
       "      <td>0</td>\n",
       "      <td>0</td>\n",
       "      <td>0</td>\n",
       "      <td>0</td>\n",
       "      <td>0</td>\n",
       "    </tr>\n",
       "  </tbody>\n",
       "</table>\n",
       "<p>5 rows × 785 columns</p>\n",
       "</div>"
      ],
      "text/plain": [
       "   label  pixel0  pixel1  pixel2  pixel3  pixel4  pixel5  pixel6  pixel7  \\\n",
       "0      1       0       0       0       0       0       0       0       0   \n",
       "1      0       0       0       0       0       0       0       0       0   \n",
       "2      1       0       0       0       0       0       0       0       0   \n",
       "3      4       0       0       0       0       0       0       0       0   \n",
       "4      0       0       0       0       0       0       0       0       0   \n",
       "\n",
       "   pixel8  ...  pixel774  pixel775  pixel776  pixel777  pixel778  pixel779  \\\n",
       "0       0  ...         0         0         0         0         0         0   \n",
       "1       0  ...         0         0         0         0         0         0   \n",
       "2       0  ...         0         0         0         0         0         0   \n",
       "3       0  ...         0         0         0         0         0         0   \n",
       "4       0  ...         0         0         0         0         0         0   \n",
       "\n",
       "   pixel780  pixel781  pixel782  pixel783  \n",
       "0         0         0         0         0  \n",
       "1         0         0         0         0  \n",
       "2         0         0         0         0  \n",
       "3         0         0         0         0  \n",
       "4         0         0         0         0  \n",
       "\n",
       "[5 rows x 785 columns]"
      ]
     },
     "execution_count": 4,
     "metadata": {},
     "output_type": "execute_result"
    }
   ],
   "source": [
    "train.head()"
   ]
  },
  {
   "cell_type": "code",
   "execution_count": 5,
   "id": "secure-algeria",
   "metadata": {},
   "outputs": [
    {
     "data": {
      "text/html": [
       "<div>\n",
       "<style scoped>\n",
       "    .dataframe tbody tr th:only-of-type {\n",
       "        vertical-align: middle;\n",
       "    }\n",
       "\n",
       "    .dataframe tbody tr th {\n",
       "        vertical-align: top;\n",
       "    }\n",
       "\n",
       "    .dataframe thead th {\n",
       "        text-align: right;\n",
       "    }\n",
       "</style>\n",
       "<table border=\"1\" class=\"dataframe\">\n",
       "  <thead>\n",
       "    <tr style=\"text-align: right;\">\n",
       "      <th></th>\n",
       "      <th>pixel0</th>\n",
       "      <th>pixel1</th>\n",
       "      <th>pixel2</th>\n",
       "      <th>pixel3</th>\n",
       "      <th>pixel4</th>\n",
       "      <th>pixel5</th>\n",
       "      <th>pixel6</th>\n",
       "      <th>pixel7</th>\n",
       "      <th>pixel8</th>\n",
       "      <th>pixel9</th>\n",
       "      <th>...</th>\n",
       "      <th>pixel774</th>\n",
       "      <th>pixel775</th>\n",
       "      <th>pixel776</th>\n",
       "      <th>pixel777</th>\n",
       "      <th>pixel778</th>\n",
       "      <th>pixel779</th>\n",
       "      <th>pixel780</th>\n",
       "      <th>pixel781</th>\n",
       "      <th>pixel782</th>\n",
       "      <th>pixel783</th>\n",
       "    </tr>\n",
       "  </thead>\n",
       "  <tbody>\n",
       "    <tr>\n",
       "      <th>0</th>\n",
       "      <td>0</td>\n",
       "      <td>0</td>\n",
       "      <td>0</td>\n",
       "      <td>0</td>\n",
       "      <td>0</td>\n",
       "      <td>0</td>\n",
       "      <td>0</td>\n",
       "      <td>0</td>\n",
       "      <td>0</td>\n",
       "      <td>0</td>\n",
       "      <td>...</td>\n",
       "      <td>0</td>\n",
       "      <td>0</td>\n",
       "      <td>0</td>\n",
       "      <td>0</td>\n",
       "      <td>0</td>\n",
       "      <td>0</td>\n",
       "      <td>0</td>\n",
       "      <td>0</td>\n",
       "      <td>0</td>\n",
       "      <td>0</td>\n",
       "    </tr>\n",
       "    <tr>\n",
       "      <th>1</th>\n",
       "      <td>0</td>\n",
       "      <td>0</td>\n",
       "      <td>0</td>\n",
       "      <td>0</td>\n",
       "      <td>0</td>\n",
       "      <td>0</td>\n",
       "      <td>0</td>\n",
       "      <td>0</td>\n",
       "      <td>0</td>\n",
       "      <td>0</td>\n",
       "      <td>...</td>\n",
       "      <td>0</td>\n",
       "      <td>0</td>\n",
       "      <td>0</td>\n",
       "      <td>0</td>\n",
       "      <td>0</td>\n",
       "      <td>0</td>\n",
       "      <td>0</td>\n",
       "      <td>0</td>\n",
       "      <td>0</td>\n",
       "      <td>0</td>\n",
       "    </tr>\n",
       "    <tr>\n",
       "      <th>2</th>\n",
       "      <td>0</td>\n",
       "      <td>0</td>\n",
       "      <td>0</td>\n",
       "      <td>0</td>\n",
       "      <td>0</td>\n",
       "      <td>0</td>\n",
       "      <td>0</td>\n",
       "      <td>0</td>\n",
       "      <td>0</td>\n",
       "      <td>0</td>\n",
       "      <td>...</td>\n",
       "      <td>0</td>\n",
       "      <td>0</td>\n",
       "      <td>0</td>\n",
       "      <td>0</td>\n",
       "      <td>0</td>\n",
       "      <td>0</td>\n",
       "      <td>0</td>\n",
       "      <td>0</td>\n",
       "      <td>0</td>\n",
       "      <td>0</td>\n",
       "    </tr>\n",
       "    <tr>\n",
       "      <th>3</th>\n",
       "      <td>0</td>\n",
       "      <td>0</td>\n",
       "      <td>0</td>\n",
       "      <td>0</td>\n",
       "      <td>0</td>\n",
       "      <td>0</td>\n",
       "      <td>0</td>\n",
       "      <td>0</td>\n",
       "      <td>0</td>\n",
       "      <td>0</td>\n",
       "      <td>...</td>\n",
       "      <td>0</td>\n",
       "      <td>0</td>\n",
       "      <td>0</td>\n",
       "      <td>0</td>\n",
       "      <td>0</td>\n",
       "      <td>0</td>\n",
       "      <td>0</td>\n",
       "      <td>0</td>\n",
       "      <td>0</td>\n",
       "      <td>0</td>\n",
       "    </tr>\n",
       "    <tr>\n",
       "      <th>4</th>\n",
       "      <td>0</td>\n",
       "      <td>0</td>\n",
       "      <td>0</td>\n",
       "      <td>0</td>\n",
       "      <td>0</td>\n",
       "      <td>0</td>\n",
       "      <td>0</td>\n",
       "      <td>0</td>\n",
       "      <td>0</td>\n",
       "      <td>0</td>\n",
       "      <td>...</td>\n",
       "      <td>0</td>\n",
       "      <td>0</td>\n",
       "      <td>0</td>\n",
       "      <td>0</td>\n",
       "      <td>0</td>\n",
       "      <td>0</td>\n",
       "      <td>0</td>\n",
       "      <td>0</td>\n",
       "      <td>0</td>\n",
       "      <td>0</td>\n",
       "    </tr>\n",
       "  </tbody>\n",
       "</table>\n",
       "<p>5 rows × 784 columns</p>\n",
       "</div>"
      ],
      "text/plain": [
       "   pixel0  pixel1  pixel2  pixel3  pixel4  pixel5  pixel6  pixel7  pixel8  \\\n",
       "0       0       0       0       0       0       0       0       0       0   \n",
       "1       0       0       0       0       0       0       0       0       0   \n",
       "2       0       0       0       0       0       0       0       0       0   \n",
       "3       0       0       0       0       0       0       0       0       0   \n",
       "4       0       0       0       0       0       0       0       0       0   \n",
       "\n",
       "   pixel9  ...  pixel774  pixel775  pixel776  pixel777  pixel778  pixel779  \\\n",
       "0       0  ...         0         0         0         0         0         0   \n",
       "1       0  ...         0         0         0         0         0         0   \n",
       "2       0  ...         0         0         0         0         0         0   \n",
       "3       0  ...         0         0         0         0         0         0   \n",
       "4       0  ...         0         0         0         0         0         0   \n",
       "\n",
       "   pixel780  pixel781  pixel782  pixel783  \n",
       "0         0         0         0         0  \n",
       "1         0         0         0         0  \n",
       "2         0         0         0         0  \n",
       "3         0         0         0         0  \n",
       "4         0         0         0         0  \n",
       "\n",
       "[5 rows x 784 columns]"
      ]
     },
     "execution_count": 5,
     "metadata": {},
     "output_type": "execute_result"
    }
   ],
   "source": [
    "test.head()"
   ]
  },
  {
   "cell_type": "code",
   "execution_count": 6,
   "id": "married-michigan",
   "metadata": {},
   "outputs": [
    {
     "data": {
      "text/plain": [
       "[(42000, 785), (28000, 784)]"
      ]
     },
     "execution_count": 6,
     "metadata": {},
     "output_type": "execute_result"
    }
   ],
   "source": [
    "[train.shape, test.shape]"
   ]
  },
  {
   "cell_type": "markdown",
   "id": "completed-collins",
   "metadata": {},
   "source": [
    "## Data Visualization"
   ]
  },
  {
   "cell_type": "code",
   "execution_count": 7,
   "id": "split-tuner",
   "metadata": {},
   "outputs": [
    {
     "name": "stderr",
     "output_type": "stream",
     "text": [
      "c:\\users\\lenovo\\appdata\\local\\programs\\python\\python38\\lib\\site-packages\\seaborn\\_decorators.py:36: FutureWarning: Pass the following variable as a keyword arg: x. From version 0.12, the only valid positional argument will be `data`, and passing other arguments without an explicit keyword will result in an error or misinterpretation.\n",
      "  warnings.warn(\n"
     ]
    },
    {
     "data": {
      "text/plain": [
       "<AxesSubplot:xlabel='label', ylabel='count'>"
      ]
     },
     "execution_count": 7,
     "metadata": {},
     "output_type": "execute_result"
    },
    {
     "data": {
      "image/png": "[encoded data removed]",
      "text/plain": [
       "<Figure size 720x360 with 1 Axes>"
      ]
     },
     "metadata": {
      "needs_background": "light"
     },
     "output_type": "display_data"
    }
   ],
   "source": [
    "plt.figure(figsize=(10,5))\n",
    "sns.countplot(train.label)"
   ]
  },
  {
   "cell_type": "code",
   "execution_count": 8,
   "id": "convinced-renaissance",
   "metadata": {},
   "outputs": [],
   "source": [
    "##Seperation of Features and Labels as well as reshapig for CNN input\n",
    "X_train=train.drop(columns=['label']).values\n",
    "y_train=train.label.values\n",
    "#Normalize the data\n",
    "X_train=tf.keras.utils.normalize(X_train, axis=1)\n",
    "X_test=tf.keras.utils.normalize(test, axis=1).values"
   ]
  },
  {
   "cell_type": "code",
   "execution_count": 9,
   "id": "narrative-parks",
   "metadata": {},
   "outputs": [
    {
     "name": "stdout",
     "output_type": "stream",
     "text": [
      "(42000, 784) (42000,) (28000, 784)\n"
     ]
    }
   ],
   "source": [
    "print(X_train.shape, y_train.shape, X_test.shape)"
   ]
  },
  {
   "cell_type": "code",
   "execution_count": 10,
   "id": "premium-brunei",
   "metadata": {},
   "outputs": [],
   "source": [
    "X_test1 = X_test.reshape(X_test.shape[0],28,28,1)\n",
    "X_train1 = X_train.reshape(X_train.shape[0],28,28,1)"
   ]
  },
  {
   "cell_type": "markdown",
   "id": "matched-secret",
   "metadata": {},
   "source": [
    "## Building the Model"
   ]
  },
  {
   "cell_type": "code",
   "execution_count": 11,
   "id": "comic-average",
   "metadata": {},
   "outputs": [
    {
     "name": "stdout",
     "output_type": "stream",
     "text": [
      "Epoch 1/50\n",
      "1050/1050 [==============================] - 26s 24ms/step - loss: 0.6926 - accuracy: 0.7722 - val_loss: 0.1181 - val_accuracy: 0.9626\n",
      "Epoch 2/50\n",
      "1050/1050 [==============================] - 28s 26ms/step - loss: 0.1487 - accuracy: 0.9546 - val_loss: 0.0766 - val_accuracy: 0.9771\n",
      "Epoch 3/50\n",
      "1050/1050 [==============================] - 30s 29ms/step - loss: 0.1019 - accuracy: 0.9682 - val_loss: 0.0614 - val_accuracy: 0.9789\n",
      "Epoch 4/50\n",
      "1050/1050 [==============================] - 29s 28ms/step - loss: 0.0790 - accuracy: 0.9745 - val_loss: 0.0548 - val_accuracy: 0.9823\n",
      "Epoch 5/50\n",
      "1050/1050 [==============================] - 29s 28ms/step - loss: 0.0675 - accuracy: 0.9777 - val_loss: 0.0513 - val_accuracy: 0.9846\n",
      "Epoch 6/50\n",
      "1050/1050 [==============================] - 29s 28ms/step - loss: 0.0569 - accuracy: 0.9820 - val_loss: 0.0469 - val_accuracy: 0.9846\n",
      "Epoch 7/50\n",
      "1050/1050 [==============================] - 29s 27ms/step - loss: 0.0545 - accuracy: 0.9828 - val_loss: 0.0519 - val_accuracy: 0.9845\n",
      "Epoch 8/50\n",
      "1050/1050 [==============================] - 29s 28ms/step - loss: 0.0472 - accuracy: 0.9849 - val_loss: 0.0487 - val_accuracy: 0.9857\n",
      "Epoch 9/50\n",
      "1050/1050 [==============================] - 29s 28ms/step - loss: 0.0419 - accuracy: 0.9864 - val_loss: 0.0493 - val_accuracy: 0.9852\n",
      "Epoch 10/50\n",
      "1050/1050 [==============================] - 30s 28ms/step - loss: 0.0412 - accuracy: 0.9862 - val_loss: 0.0423 - val_accuracy: 0.9868\n",
      "Epoch 11/50\n",
      "1050/1050 [==============================] - 32s 30ms/step - loss: 0.0329 - accuracy: 0.9887 - val_loss: 0.0501 - val_accuracy: 0.9861\n",
      "Epoch 12/50\n",
      "1050/1050 [==============================] - 29s 28ms/step - loss: 0.0326 - accuracy: 0.9888 - val_loss: 0.0442 - val_accuracy: 0.9879\n",
      "Epoch 13/50\n",
      "1050/1050 [==============================] - 29s 28ms/step - loss: 0.0271 - accuracy: 0.9915 - val_loss: 0.0492 - val_accuracy: 0.9870\n",
      "Epoch 14/50\n",
      "1050/1050 [==============================] - 30s 29ms/step - loss: 0.0286 - accuracy: 0.9899 - val_loss: 0.0439 - val_accuracy: 0.9875\n",
      "Epoch 15/50\n",
      "1050/1050 [==============================] - 29s 27ms/step - loss: 0.0241 - accuracy: 0.9915 - val_loss: 0.0428 - val_accuracy: 0.9875\n",
      "Epoch 16/50\n",
      "1050/1050 [==============================] - 28s 27ms/step - loss: 0.0236 - accuracy: 0.9911 - val_loss: 0.0416 - val_accuracy: 0.9901\n",
      "Epoch 17/50\n",
      "1050/1050 [==============================] - 29s 28ms/step - loss: 0.0253 - accuracy: 0.9918 - val_loss: 0.0454 - val_accuracy: 0.9886\n",
      "Epoch 18/50\n",
      "1050/1050 [==============================] - 30s 28ms/step - loss: 0.0238 - accuracy: 0.9919 - val_loss: 0.0397 - val_accuracy: 0.9895\n",
      "Epoch 19/50\n",
      "1050/1050 [==============================] - 30s 29ms/step - loss: 0.0198 - accuracy: 0.9933 - val_loss: 0.0413 - val_accuracy: 0.9876\n",
      "Epoch 20/50\n",
      "1050/1050 [==============================] - 29s 28ms/step - loss: 0.0171 - accuracy: 0.9945 - val_loss: 0.0405 - val_accuracy: 0.9890\n",
      "Epoch 21/50\n",
      "1050/1050 [==============================] - 29s 28ms/step - loss: 0.0198 - accuracy: 0.9937 - val_loss: 0.0431 - val_accuracy: 0.9892\n",
      "Epoch 22/50\n",
      "1050/1050 [==============================] - 30s 28ms/step - loss: 0.0188 - accuracy: 0.9938 - val_loss: 0.0411 - val_accuracy: 0.9887\n",
      "Epoch 23/50\n",
      "1050/1050 [==============================] - 29s 28ms/step - loss: 0.0183 - accuracy: 0.9941 - val_loss: 0.0535 - val_accuracy: 0.9887\n",
      "Epoch 24/50\n",
      "1050/1050 [==============================] - 29s 28ms/step - loss: 0.0154 - accuracy: 0.9955 - val_loss: 0.0516 - val_accuracy: 0.9871\n",
      "Epoch 25/50\n",
      "1050/1050 [==============================] - 29s 28ms/step - loss: 0.0162 - accuracy: 0.9946 - val_loss: 0.0433 - val_accuracy: 0.9887\n",
      "Epoch 26/50\n",
      "1050/1050 [==============================] - 30s 28ms/step - loss: 0.0190 - accuracy: 0.9942 - val_loss: 0.0424 - val_accuracy: 0.9902\n",
      "Epoch 27/50\n",
      "1050/1050 [==============================] - 29s 28ms/step - loss: 0.0118 - accuracy: 0.9963 - val_loss: 0.0519 - val_accuracy: 0.9876\n",
      "Epoch 28/50\n",
      "1050/1050 [==============================] - 29s 28ms/step - loss: 0.0167 - accuracy: 0.9944 - val_loss: 0.0522 - val_accuracy: 0.9882\n",
      "Epoch 29/50\n",
      "1050/1050 [==============================] - 30s 28ms/step - loss: 0.0148 - accuracy: 0.9951 - val_loss: 0.0445 - val_accuracy: 0.9898\n",
      "Epoch 30/50\n",
      "1050/1050 [==============================] - 30s 29ms/step - loss: 0.0128 - accuracy: 0.9958 - val_loss: 0.0460 - val_accuracy: 0.9902\n",
      "Epoch 31/50\n",
      "1050/1050 [==============================] - 29s 27ms/step - loss: 0.0125 - accuracy: 0.9957 - val_loss: 0.0517 - val_accuracy: 0.9896\n",
      "Epoch 32/50\n",
      "1050/1050 [==============================] - 29s 27ms/step - loss: 0.0154 - accuracy: 0.9941 - val_loss: 0.0468 - val_accuracy: 0.9892\n",
      "Epoch 33/50\n",
      "1050/1050 [==============================] - 29s 27ms/step - loss: 0.0113 - accuracy: 0.9964 - val_loss: 0.0487 - val_accuracy: 0.9887\n",
      "Epoch 34/50\n",
      "1050/1050 [==============================] - 29s 27ms/step - loss: 0.0125 - accuracy: 0.9955 - val_loss: 0.0620 - val_accuracy: 0.9880\n",
      "Epoch 35/50\n",
      "1050/1050 [==============================] - 29s 27ms/step - loss: 0.0152 - accuracy: 0.9948 - val_loss: 0.0641 - val_accuracy: 0.9874\n",
      "Epoch 36/50\n",
      "1050/1050 [==============================] - 28s 27ms/step - loss: 0.0148 - accuracy: 0.9948 - val_loss: 0.0447 - val_accuracy: 0.9895\n",
      "Epoch 37/50\n",
      "1050/1050 [==============================] - 29s 27ms/step - loss: 0.0094 - accuracy: 0.9968 - val_loss: 0.0509 - val_accuracy: 0.9902\n",
      "Epoch 38/50\n",
      "1050/1050 [==============================] - 28s 27ms/step - loss: 0.0106 - accuracy: 0.9963 - val_loss: 0.0551 - val_accuracy: 0.9888\n",
      "Epoch 39/50\n",
      "1050/1050 [==============================] - 28s 27ms/step - loss: 0.0090 - accuracy: 0.9970 - val_loss: 0.0575 - val_accuracy: 0.9886\n",
      "Epoch 40/50\n",
      "1050/1050 [==============================] - 28s 27ms/step - loss: 0.0148 - accuracy: 0.9953 - val_loss: 0.0575 - val_accuracy: 0.9879\n",
      "Epoch 41/50\n",
      "1050/1050 [==============================] - 28s 27ms/step - loss: 0.0108 - accuracy: 0.9964 - val_loss: 0.0580 - val_accuracy: 0.9890\n",
      "Epoch 42/50\n",
      "1050/1050 [==============================] - 28s 27ms/step - loss: 0.0150 - accuracy: 0.9950 - val_loss: 0.0579 - val_accuracy: 0.9874\n",
      "Epoch 43/50\n",
      "1050/1050 [==============================] - 28s 27ms/step - loss: 0.0081 - accuracy: 0.9973 - val_loss: 0.0577 - val_accuracy: 0.9888\n",
      "Epoch 44/50\n",
      "1050/1050 [==============================] - 29s 27ms/step - loss: 0.0104 - accuracy: 0.9963 - val_loss: 0.0672 - val_accuracy: 0.9868\n",
      "Epoch 45/50\n",
      "1050/1050 [==============================] - 29s 27ms/step - loss: 0.0117 - accuracy: 0.9959 - val_loss: 0.0521 - val_accuracy: 0.9895\n",
      "Epoch 46/50\n",
      "1050/1050 [==============================] - 28s 27ms/step - loss: 0.0096 - accuracy: 0.9970 - val_loss: 0.0574 - val_accuracy: 0.9888\n",
      "Epoch 47/50\n",
      "1050/1050 [==============================] - 28s 27ms/step - loss: 0.0104 - accuracy: 0.9968 - val_loss: 0.0765 - val_accuracy: 0.9873\n",
      "Epoch 48/50\n",
      "1050/1050 [==============================] - 28s 27ms/step - loss: 0.0103 - accuracy: 0.9970 - val_loss: 0.0655 - val_accuracy: 0.9893\n",
      "Epoch 49/50\n",
      "1050/1050 [==============================] - 29s 27ms/step - loss: 0.0115 - accuracy: 0.9959 - val_loss: 0.0688 - val_accuracy: 0.9889\n",
      "Epoch 50/50\n",
      "1050/1050 [==============================] - 28s 27ms/step - loss: 0.0106 - accuracy: 0.9966 - val_loss: 0.0575 - val_accuracy: 0.9886\n"
     ]
    },
    {
     "data": {
      "text/plain": [
       "<tensorflow.python.keras.callbacks.History at 0x1f0767027f0>"
      ]
     },
     "execution_count": 11,
     "metadata": {},
     "output_type": "execute_result"
    }
   ],
   "source": [
    "model=Sequential()\n",
    "model.add(Conv2D(128, (3,3), input_shape=X_train1.shape[1:],strides=2))\n",
    "model.add(Activation('relu'))\n",
    "\n",
    "model.add(Conv2D(128, (3,3),strides=2))\n",
    "model.add(Activation('relu'))\n",
    "\n",
    "\n",
    "model.add(Conv2D(128, (3,3),strides=2))\n",
    "model.add(Activation('relu'))\n",
    "\n",
    "model.add(Dropout(0.5))\n",
    "model.add(Flatten())\n",
    "model.add(Dense(128))\n",
    "model.add(Activation('relu'))\n",
    "\n",
    "model.add(Dense(10))\n",
    "model.add(Activation('softmax'))\n",
    "\n",
    "model.compile(optimizer='adam',\n",
    "              loss='sparse_categorical_crossentropy',\n",
    "                metrics=['accuracy']\n",
    "              )\n",
    "model.fit(X_train1, y_train, epochs=50, validation_split=0.2) "
   ]
  },
  {
   "cell_type": "markdown",
   "id": "tired-chuck",
   "metadata": {},
   "source": [
    "## Data Analysis"
   ]
  },
  {
   "cell_type": "code",
   "execution_count": 12,
   "id": "relative-values",
   "metadata": {},
   "outputs": [
    {
     "name": "stderr",
     "output_type": "stream",
     "text": [
      "C:\\Users\\lenovo\\AppData\\Roaming\\Python\\Python38\\site-packages\\tensorflow\\python\\keras\\engine\\sequential.py:450: UserWarning: `model.predict_classes()` is deprecated and will be removed after 2021-01-01. Please use instead:* `np.argmax(model.predict(x), axis=-1)`,   if your model does multi-class classification   (e.g. if it uses a `softmax` last-layer activation).* `(model.predict(x) > 0.5).astype(\"int32\")`,   if your model does binary classification   (e.g. if it uses a `sigmoid` last-layer activation).\n",
      "  warnings.warn('`model.predict_classes()` is deprecated and '\n"
     ]
    }
   ],
   "source": [
    "y_pred_train=model.predict_classes(X_train1)\n",
    "y_pred=model.predict_classes(X_test1)\n"
   ]
  },
  {
   "cell_type": "code",
   "execution_count": 13,
   "id": "million-region",
   "metadata": {},
   "outputs": [
    {
     "data": {
      "text/plain": [
       "<AxesSubplot:>"
      ]
     },
     "execution_count": 13,
     "metadata": {},
     "output_type": "execute_result"
    },
    {
     "data": {
      "image/png": "[encoded data removed]",
      "text/plain": [
       "<Figure size 720x720 with 2 Axes>"
      ]
     },
     "metadata": {
      "needs_background": "light"
     },
     "output_type": "display_data"
    }
   ],
   "source": [
    "cm=confusion_matrix(y_train,y_pred_train)\n",
    "cm=pd.DataFrame(cm, index=[i for i in range(10)], columns=[i for i in range(10)])\n",
    "plt.figure(figsize=(10,10))\n",
    "sns.heatmap(cm, cmap='Blues',linecolor='black',linewidths=1,annot=True,fmt='')"
   ]
  },
  {
   "cell_type": "code",
   "execution_count": 14,
   "id": "graduate-guarantee",
   "metadata": {},
   "outputs": [
    {
     "data": {
      "text/html": [
       "<div>\n",
       "<style scoped>\n",
       "    .dataframe tbody tr th:only-of-type {\n",
       "        vertical-align: middle;\n",
       "    }\n",
       "\n",
       "    .dataframe tbody tr th {\n",
       "        vertical-align: top;\n",
       "    }\n",
       "\n",
       "    .dataframe thead th {\n",
       "        text-align: right;\n",
       "    }\n",
       "</style>\n",
       "<table border=\"1\" class=\"dataframe\">\n",
       "  <thead>\n",
       "    <tr style=\"text-align: right;\">\n",
       "      <th></th>\n",
       "      <th>ImageId</th>\n",
       "      <th>Label</th>\n",
       "    </tr>\n",
       "  </thead>\n",
       "  <tbody>\n",
       "    <tr>\n",
       "      <th>0</th>\n",
       "      <td>1</td>\n",
       "      <td>2</td>\n",
       "    </tr>\n",
       "    <tr>\n",
       "      <th>1</th>\n",
       "      <td>2</td>\n",
       "      <td>0</td>\n",
       "    </tr>\n",
       "    <tr>\n",
       "      <th>2</th>\n",
       "      <td>3</td>\n",
       "      <td>9</td>\n",
       "    </tr>\n",
       "    <tr>\n",
       "      <th>3</th>\n",
       "      <td>4</td>\n",
       "      <td>9</td>\n",
       "    </tr>\n",
       "    <tr>\n",
       "      <th>4</th>\n",
       "      <td>5</td>\n",
       "      <td>3</td>\n",
       "    </tr>\n",
       "  </tbody>\n",
       "</table>\n",
       "</div>"
      ],
      "text/plain": [
       "   ImageId  Label\n",
       "0        1      2\n",
       "1        2      0\n",
       "2        3      9\n",
       "3        4      9\n",
       "4        5      3"
      ]
     },
     "execution_count": 14,
     "metadata": {},
     "output_type": "execute_result"
    }
   ],
   "source": [
    "sample_submission.head()\n",
    "submission=pd.DataFrame({'ImageId': sample_submission.ImageId,'Label':y_pred})\n",
    "submission.to_csv('submission.csv',index=False)\n",
    "check=pd.read_csv('submission.csv')\n",
    "check.head()"
   ]
  },
  {
   "cell_type": "code",
   "execution_count": 15,
   "id": "julian-malta",
   "metadata": {},
   "outputs": [
    {
     "data": {
      "image/png": "[encoded data removed]",
      "text/plain": [
       "<Figure size 432x288 with 1 Axes>"
      ]
     },
     "metadata": {
      "needs_background": "light"
     },
     "output_type": "display_data"
    },
    {
     "name": "stdout",
     "output_type": "stream",
     "text": [
      "Prediction:  0\n"
     ]
    }
   ],
   "source": [
    "X_test_1=X_test.reshape(X_test.shape[0],28,28)\n",
    "plt.imshow(X_test_1[100])\n",
    "plt.show()\n",
    "print('Prediction: ', y_pred[100])"
   ]
  }
 ],
 "metadata": {
  "kernelspec": {
   "display_name": "Python 3",
   "language": "python",
   "name": "python3"
  },
  "language_info": {
   "codemirror_mode": {
    "name": "ipython",
    "version": 3
   },
   "file_extension": ".py",
   "mimetype": "text/x-python",
   "name": "python",
   "nbconvert_exporter": "python",
   "pygments_lexer": "ipython3",
   "version": "3.8.6"
  }
 },
 "nbformat": 4,
 "nbformat_minor": 5
}
